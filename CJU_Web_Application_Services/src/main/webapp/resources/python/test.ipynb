{
 "cells": [
  {
   "cell_type": "code",
   "execution_count": 2,
   "metadata": {},
   "outputs": [],
   "source": [
    "import whisper\n",
    "import torch\n",
    "from pydub import AudioSegment\n",
    "import os\n",
    "import base64\n",
    "from io import BytesIO\n",
    "import numpy"
   ]
  },
  {
   "cell_type": "code",
   "execution_count": 3,
   "metadata": {},
   "outputs": [],
   "source": [
    "torch.cuda.empty_cache()\n",
    "device = torch.device(\"cuda\" if torch.cuda.is_available() else \"cpu\")\n",
    "model = whisper.load_model(\"medium\")\n",
    "model = model.to(device)"
   ]
  },
  {
   "cell_type": "code",
   "execution_count": 4,
   "metadata": {},
   "outputs": [],
   "source": [
    "file_path = \"/home/jongho/바탕화면/테스트 음성파일/\"\n",
    "file_name = \"연제리2.wav\"\n",
    "\n",
    "encode_audio = base64.b64encode(open(f\"{file_path}{file_name}\", \"rb\").read()).decode('utf-8') "
   ]
  },
  {
   "cell_type": "code",
   "execution_count": 66,
   "metadata": {},
   "outputs": [],
   "source": [
    "import wave\n",
    "import struct\n",
    "\n",
    "def extract_wav_header(binary_data):\n",
    "    # WAV 파일 헤더 구조에 맞게 필드를 읽음\n",
    "  \n",
    "    chunk_id = binary_data[:4].decode('utf-8')\n",
    "    chunk_size = struct.unpack('<I', binary_data[4:8])[0]\n",
    "    format_str = binary_data[8:12].decode('utf-8')\n",
    "    subchunk1_id = binary_data[12:16].decode('utf-8')\n",
    "    subchunk1_size = struct.unpack('<I', binary_data[16:20])[0]\n",
    "    audio_format = struct.unpack('<H', binary_data[20:22])[0]\n",
    "    num_channels = struct.unpack('<H', binary_data[22:24])[0]\n",
    "    sample_rate = struct.unpack('<I', binary_data[24:28])[0]\n",
    "    byte_rate = struct.unpack('<I', binary_data[28:32])[0]\n",
    "    block_align = struct.unpack('<H', binary_data[32:34])[0]\n",
    "    bits_per_sample = struct.unpack('<H', binary_data[34:36])[0]\n",
    "    subchunk2_id = binary_data[36:40].decode('utf-8')\n",
    "    subchunk2_size = struct.unpack('<I', binary_data[40:44])[0]\n",
    "    \n",
    "\n",
    "    header = {\"Chunk ID:\", chunk_id,\n",
    "      \"Chunk Size:\", chunk_size,\n",
    "      \"Format:\", format_str,\n",
    "      \"Subchunk1 ID:\", subchunk1_id,\n",
    "      \"Subchunk1 Size:\", subchunk1_size,\n",
    "      \"Audio Format:\", audio_format,\n",
    "      \"Num Channels:\", num_channels,\n",
    "      \"Sample Rate:\", sample_rate,\n",
    "      \"Byte Rate:\", byte_rate,\n",
    "      \"Block Align:\", block_align,\n",
    "      \"Bits Per Sample:\", bits_per_sample,\n",
    "      \"Subchunk2 ID:\", subchunk2_id,\n",
    "      \"Subchunk2 Size:\", subchunk2_size}\n",
    "    # 헤더 정보 반환\n",
    "    # header = {\n",
    "    #     'channels': channels,\n",
    "    #     'sample_width': sample_width,\n",
    "    #     'frame_rate': frame_rate,\n",
    "    #     'num_frames': num_frames\n",
    "    # }\n",
    "    \n",
    "    return header "
   ]
  },
  {
   "cell_type": "code",
   "execution_count": 67,
   "metadata": {},
   "outputs": [
    {
     "name": "stdout",
     "output_type": "stream",
     "text": [
      "음성파일 헤더 정보 : {1, 2, 'Block Align:', 4, 16, 176400, 'WAVE', 'Chunk ID:', 'RIFF', 'Sample Rate:', 'LIST', 543172920, 44100, 'Chunk Size:', 'Num Channels:', 80, 'fmt ', 'Subchunk2 Size:', 'Bits Per Sample:', 'Subchunk2 ID:', 'Format:', 'Subchunk1 ID:', 'Audio Format:', 'Byte Rate:', 'Subchunk1 Size:'}\n"
     ]
    }
   ],
   "source": [
    "# 웹 소켓을 통해서 base64 데이터를 수신 받았을때\n",
    "# 바이너리 데이터로 변환\n",
    "decoded_audio = base64.b64decode(encode_audio)\n",
    "\n",
    "# 오디오 데이터에서 헤더정보 추출\n",
    "BINARY_DATA = decoded_audio[:44]\n",
    "audio_signal_data = decoded_audio[44:]\n",
    "\n",
    "wav_header = extract_wav_header(BINARY_DATA)\n",
    "\n",
    "print(\"음성파일 헤더 정보 :\",wav_header)"
   ]
  },
  {
   "cell_type": "code",
   "execution_count": 61,
   "metadata": {},
   "outputs": [
    {
     "name": "stdout",
     "output_type": "stream",
     "text": [
      "바이너리 데이터 분할 완료 : 55개\n"
     ]
    }
   ],
   "source": [
    "# 분할 사이즈\n",
    "SPLIT_SIZE = 10000000 # 10MB\n",
    "# 기본 경로\n",
    "BASE_PATH = \"/home/jongho/Spring_project/CJU_STT/CJU_Web_Application_Services/src/main/webapp/resources/python/result\"\n",
    "# 분할 바이너리 데이터 리스트\n",
    "split_data = []\n",
    "\n",
    "for i in range(0, len(audio_signal_data), SPLIT_SIZE):\n",
    "    split_data.append(audio_signal_data[i:i+SPLIT_SIZE])\n",
    "\n",
    "print(f\"바이너리 데이터 분할 완료 : {len(split_data)}개\")"
   ]
  },
  {
   "cell_type": "code",
   "execution_count": 62,
   "metadata": {},
   "outputs": [],
   "source": [
    "INPUT_DATA = split_data[20]\n",
    "\n",
    "# WAV 파일 헤더 정보 생성\n",
    "chunk_id = b'RIFF'\n",
    "chunk_size = len(INPUT_DATA) + 36  # 데이터 크기에 추가 정보 크기(36바이트)를 더함\n",
    "format_str = b'WAVE'\n",
    "subchunk1_id = b'fmt '\n",
    "subchunk1_size = 16  # 일반적인 값을 사용함\n",
    "audio_format = 1  # PCM 포맷\n",
    "num_channels = 2  # 스테레오\n",
    "sample_rate = 44100  # 예시로 44100Hz\n",
    "byte_rate = sample_rate * num_channels * 2  # 샘플링 레이트 * 채널 수 * 샘플 크기(2바이트)\n",
    "block_align = num_channels * 2  # 채널 수 * 샘플 크기(2바이트)\n",
    "bits_per_sample = 16  # 16비트 PCM 사용\n",
    "subchunk2_id = b'data'\n",
    "subchunk2_size = len(INPUT_DATA)  # 데이터 크기\n",
    "\n",
    "wav_header = struct.pack('<4sI4s4sIHHIIHH4sI', chunk_id, chunk_size, format_str, subchunk1_id,\n",
    "                         subchunk1_size, audio_format, num_channels, sample_rate, byte_rate,\n",
    "                         block_align, bits_per_sample, subchunk2_id, subchunk2_size)\n",
    "\n",
    "audio_with_header = wav_header + INPUT_DATA\n",
    "\n",
    "with open('./audio_with_header.wav', 'wb') as file:\n",
    "    file.write(audio_with_header)"
   ]
  },
  {
   "cell_type": "code",
   "execution_count": 63,
   "metadata": {},
   "outputs": [
    {
     "name": "stdout",
     "output_type": "stream",
     "text": [
      " 이 체험을 과입해서 저희 보안에 있다 보니까 많은 분들이 작성하시면 없을 거예요. 그래서 일단은 제가 그거에 대한 안내는 따로 드릴 거고 지금 여기 드린 게 개인정보랑 보안에 걸려있다 보니까 제가 보안사약서랑 나중에 정보 찾기, 그리고 이제 뭐 주기가 쌓이도록 하거든요. 그래서 정보라든지 대상자 정보라든지 이런 것들이 있으니까 찾기 하면서, 이거를 나중에 제출해주시면 되고 부침 1이랑 부침 3은 제출을 해주시면 됩니다. 그 다음에 파일 보여드리기 위해서 스페어, 자폐정보가 필요하거든요. 그리고 보안교육은 개인정보공교류라고 해서 개인정보를 지금 다루기 때문에 그러니까 그거에 대한 그 기회가 우리 지금 들어가는 거예요.\n"
     ]
    }
   ],
   "source": [
    "# Whiper 입력 데이터 형식으로 변환\n",
    "audio = AudioSegment.from_file(BytesIO(audio_with_header), format=\"wav\")\n",
    "data = numpy.array(audio.get_array_of_samples())\n",
    "audio_float32 = data.astype('float32') / 32768.0\n",
    "\n",
    "# STT 실행\n",
    "result = model.transcribe('./audio_with_header.wav', fp16=False)\n",
    "\n",
    "print(result['text'])"
   ]
  },
  {
   "cell_type": "code",
   "execution_count": 6,
   "metadata": {},
   "outputs": [],
   "source": [
    "# for audio_file_name in work_list :\n",
    "#     save_path = \"/home/jongho/Spring_project/CJU_STT/CJU_Web_Application_Services/src/main/webapp/resources/python/result\"\n",
    "#     target_audio_path = f\"{save_path}/{audio_file_name}\"\n",
    "#     print(target_audio_path)\n",
    "#     result = model.transcribe(target_audio_path, fp16=False)\n",
    "#     print(result['text'])"
   ]
  }
 ],
 "metadata": {
  "kernelspec": {
   "display_name": "Python 3",
   "language": "python",
   "name": "python3"
  },
  "language_info": {
   "codemirror_mode": {
    "name": "ipython",
    "version": 3
   },
   "file_extension": ".py",
   "mimetype": "text/x-python",
   "name": "python",
   "nbconvert_exporter": "python",
   "pygments_lexer": "ipython3",
   "version": "3.8.10"
  }
 },
 "nbformat": 4,
 "nbformat_minor": 2
}
