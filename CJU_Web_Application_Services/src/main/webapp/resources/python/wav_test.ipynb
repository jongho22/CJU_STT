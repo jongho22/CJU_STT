{
 "cells": [
  {
   "cell_type": "code",
   "execution_count": null,
   "metadata": {},
   "outputs": [],
   "source": [
    "import librosa\n",
    "import soundfile \n",
    "import numpy as np\n",
    "import whisper\n",
    "import torch\n",
    "from IPython.display import Audio\n",
    "import audioread.ffdec  \n",
    "from collections import Counter"
   ]
  },
  {
   "cell_type": "code",
   "execution_count": null,
   "metadata": {},
   "outputs": [],
   "source": [
    "device = torch.device(\"cuda\" if torch.cuda.is_available() else \"cpu\")\n",
    "model = whisper.load_model(\"medium\")\n",
    "model = model.to(device)"
   ]
  },
  {
   "cell_type": "code",
   "execution_count": null,
   "metadata": {},
   "outputs": [],
   "source": [
    "file_path = \"/home/jongho/바탕화면/테스트 음성파일/\"\n",
    "file_name = \"연제리.wav\"\n",
    "\n",
    "# 음성파일 로드\n",
    "audio_path = file_path + file_name\n",
    "aro = audioread.ffdec.FFmpegAudioFile(audio_path)\n",
    "audio, sr = librosa.load(aro)\n",
    "\n",
    "Audio(audio, rate=sr)"
   ]
  },
  {
   "cell_type": "code",
   "execution_count": null,
   "metadata": {},
   "outputs": [],
   "source": [
    "# db_list = librosa.amplitude_to_db(np.abs(librosa.stft(audio)), ref=np.max)\n",
    "\n",
    "# avg_db_list = []\n",
    "\n",
    "# import tqdm\n",
    "\n",
    "# for el_list in db_list :\n",
    "    \n",
    "#     try :\n",
    "#         count_dict = Counter(el_list)\n",
    "#         most_common_value = max(count_dict, key=count_dict.get)\n",
    "#         el_list = [x for x in el_list if x != most_common_value]\n",
    "#         avg_el = sum(el_list) /len(el_list)\n",
    "#     except ZeroDivisionError  :\n",
    "#         avg_el = int(np.mean(el_list))\n",
    "#     finally :\n",
    "#         avg_db_list.append(avg_el)\n",
    "\n",
    "# avg_db = sum(avg_db_list) /len(avg_db_list)\n",
    "\n",
    "# print(avg_db)\n"
   ]
  },
  {
   "cell_type": "code",
   "execution_count": null,
   "metadata": {},
   "outputs": [],
   "source": [
    "# # 음성이 있는 부분만 음성 데이터 분할\n",
    "# split_audio = librosa.effects.split(audio, top_db=10)\n",
    "\n",
    "# for i, (start, end) in enumerate(split_audio):\n",
    "#     output_file = f'output_{i}.wav'\n",
    "#     soundfile.write(f\"./result/{output_file}\", audio[start:end], sr)\n",
    "#     print(f'음성 추출 {i}번째 : {output_file}')\n",
    "\n",
    "# output_file_num = i\n",
    "\n",
    "# print(output_file_num)"
   ]
  },
  {
   "cell_type": "code",
   "execution_count": null,
   "metadata": {},
   "outputs": [],
   "source": [
    "for i in range(output_file_num+1):\n",
    "    result = model.transcribe(f\"./result/output_{i}.wav\", fp16=False)\n",
    "    print(result['text'])"
   ]
  },
  {
   "cell_type": "code",
   "execution_count": null,
   "metadata": {},
   "outputs": [],
   "source": []
  }
 ],
 "metadata": {
  "kernelspec": {
   "display_name": "Python 3",
   "language": "python",
   "name": "python3"
  },
  "language_info": {
   "codemirror_mode": {
    "name": "ipython",
    "version": 3
   },
   "file_extension": ".py",
   "mimetype": "text/x-python",
   "name": "python",
   "nbconvert_exporter": "python",
   "pygments_lexer": "ipython3",
   "version": "3.8.10"
  }
 },
 "nbformat": 4,
 "nbformat_minor": 2
}
