{
 "cells": [
  {
   "cell_type": "code",
   "execution_count": null,
   "metadata": {},
   "outputs": [],
   "source": [
    "import librosa\n",
    "import soundfile \n",
    "import numpy as np\n",
    "import whisper\n",
    "import torch\n",
    "from IPython.display import Audio"
   ]
  },
  {
   "cell_type": "code",
   "execution_count": null,
   "metadata": {},
   "outputs": [],
   "source": [
    "device = torch.device(\"cuda\" if torch.cuda.is_available() else \"cpu\")\n",
    "    \n",
    "model = whisper.load_model(\"medium\")\n",
    "model = model.to(device)"
   ]
  },
  {
   "cell_type": "code",
   "execution_count": null,
   "metadata": {},
   "outputs": [],
   "source": [
    "file_path = \"/home/jongho/바탕화면/테스트 음성파일/\"\n",
    "file_name = \"연제리.wav\"\n",
    "\n",
    "import audioread.ffdec  # Use ffmpeg decoder\n",
    "\n",
    "path = file_path + file_name\n",
    "aro = audioread.ffdec.FFmpegAudioFile(path)\n",
    "y, sr = librosa.load(aro)\n",
    "# sfo = soundfile.SoundFile(file_path+file_name)\n",
    "# y, sr = librosa.load(sfo)\n",
    "# y, sr = librosa.load(file_path+file_name,res_type=\"HQ\")\n",
    "\n",
    "# y, sr = librosa.core.load(path, sr=None, mono=False, offset=0.0, duration=None, res_type='kaiser_best')\n",
    "\n",
    "Audio(y, rate=sr)"
   ]
  },
  {
   "cell_type": "code",
   "execution_count": null,
   "metadata": {},
   "outputs": [],
   "source": [
    "# spectrogram = np.abs(librosa.stft(y))\n",
    "\n",
    "# noise_mask = np.mean(spectrogram, axis=1) < 0.01\n",
    "\n",
    "# denoised_spectrogram = spectrogram.copy()\n",
    "# denoised_spectrogram[noise_mask] = 0\n",
    "\n",
    "# denoised_audio = librosa.istft(denoised_spectrogram)\n",
    "\n",
    "# Audio(denoised_audio, rate=sr)\n",
    "    "
   ]
  },
  {
   "cell_type": "code",
   "execution_count": null,
   "metadata": {},
   "outputs": [],
   "source": [
    "vad_y = librosa.effects.split(y)\n",
    "\n",
    "for i, (start, end) in enumerate(vad_y):\n",
    "    output_file = f'output_{i}.wav'\n",
    "    soundfile .write(f\"./result/{output_file}\", y[start:end], sr)\n",
    "    print(f'음성이 있는 부분 {i}을(를) 저장했습니다: {output_file}')\n",
    "\n",
    "output_file_num = i\n",
    "\n",
    "print(output_file_num)"
   ]
  },
  {
   "cell_type": "code",
   "execution_count": null,
   "metadata": {},
   "outputs": [],
   "source": [
    "for i in range(output_file_num+1):\n",
    "    result = model.transcribe(f\"./result/output_{i}.wav\", fp16=False)\n",
    "    print(result['text'])"
   ]
  },
  {
   "cell_type": "code",
   "execution_count": null,
   "metadata": {},
   "outputs": [],
   "source": []
  }
 ],
 "metadata": {
  "kernelspec": {
   "display_name": "Python 3",
   "language": "python",
   "name": "python3"
  },
  "language_info": {
   "codemirror_mode": {
    "name": "ipython",
    "version": 3
   },
   "file_extension": ".py",
   "mimetype": "text/x-python",
   "name": "python",
   "nbconvert_exporter": "python",
   "pygments_lexer": "ipython3",
   "version": "3.8.10"
  }
 },
 "nbformat": 4,
 "nbformat_minor": 2
}
