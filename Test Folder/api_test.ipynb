{
 "cells": [
  {
   "cell_type": "code",
   "execution_count": 4,
   "metadata": {},
   "outputs": [
    {
     "name": "stdout",
     "output_type": "stream",
     "text": [
      "[responseCode] 504\n",
      "[responBody]\n",
      "<html>\n",
      "<head><title>504 Gateway Time-out</title></head>\n",
      "<body bgcolor=\"white\">\n",
      "<center><h1>504 Gateway Time-out</h1></center>\n",
      "<hr><center>nginx</center>\n",
      "</body>\n",
      "</html>\n",
      "\n"
     ]
    }
   ],
   "source": [
    "# #-*- coding:utf-8 -*-\n",
    "# import urllib3\n",
    "# import json\n",
    "# import base64\n",
    "# openApiURL = \"http://aiopen.etri.re.kr:8000/WiseASR/Recognition\"\n",
    "# accessKey = \"b1d4eb07-44f8-42cc-899b-bc9ab42d76fe\"\n",
    "# audioFilePath = \"/home/jongho/바탕화면/광화문자생한방병원_1.mp3\"\n",
    "# languageCode = \"korean\"\n",
    "\n",
    "# file = open(audioFilePath, \"rb\")\n",
    "# audioContents = base64.b64encode(file.read()).decode(\"utf8\")\n",
    "# file.close()\n",
    "\n",
    "# requestJson = {    \n",
    "#     \"argument\": {\n",
    "#         \"language_code\": languageCode,\n",
    "#         \"audio\": audioContents\n",
    "#     }\n",
    "# }\n",
    "\n",
    "# http = urllib3.PoolManager()\n",
    "# response = http.request(\n",
    "#     \"POST\",\n",
    "#     openApiURL,\n",
    "#     headers={\"Content-Type\": \"application/json; charset=UTF-8\",\"Authorization\": accessKey},\n",
    "#     body=json.dumps(requestJson)\n",
    "# )\n",
    "\n",
    "# print(\"[responseCode] \" + str(response.status))\n",
    "# print(\"[responBody]\")\n",
    "# print(str(response.data,\"utf-8\"))"
   ]
  },
  {
   "cell_type": "code",
   "execution_count": null,
   "metadata": {},
   "outputs": [],
   "source": [
    "import ffmpeg\n",
    "ffmpeg -y  -i input.mp3  -acodec pcm_s16le -f s16le -ac 1 -ar 16000 output.pcm"
   ]
  }
 ],
 "metadata": {
  "kernelspec": {
   "display_name": "Python 3",
   "language": "python",
   "name": "python3"
  },
  "language_info": {
   "codemirror_mode": {
    "name": "ipython",
    "version": 3
   },
   "file_extension": ".py",
   "mimetype": "text/x-python",
   "name": "python",
   "nbconvert_exporter": "python",
   "pygments_lexer": "ipython3",
   "version": "3.8.10"
  }
 },
 "nbformat": 4,
 "nbformat_minor": 2
}
